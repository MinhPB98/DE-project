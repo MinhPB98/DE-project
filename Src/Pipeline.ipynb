{
 "cells": [
  {
   "cell_type": "code",
   "execution_count": null,
   "id": "d7d24b5a",
   "metadata": {
    "scrolled": true
   },
   "outputs": [],
   "source": [
    "from ingest_data import Extract_data, read_csv_from_lake\n",
    "from load_data import load_data\n",
    "from transform_data import clean_data"
   ]
  },
  {
   "cell_type": "code",
   "execution_count": null,
   "id": "6e36426e",
   "metadata": {},
   "outputs": [],
   "source": [
    "try:\n",
    "    input_data = input('Input your file name: ')\n",
    "    print(\"-------------------------------------\")\n",
    "    \n",
    "#************************************************************\n",
    "\n",
    "    # Extracting data\n",
    "    print(\"Extract data....\")\n",
    "    data_saved = Extract_data(input_data)\n",
    "    print(\"--------------------------------------\")\n",
    "\n",
    "#************************************************************\n",
    "\n",
    "    # Reading file\n",
    "    print(\"Reading data....\")\n",
    "    data = read_csv_from_lake(input_data)\n",
    "    \n",
    "    # Printing out the original dataframe\n",
    "    print(\"\\nOriginal data: \")\n",
    "    print(data.info())\n",
    "    print(\"\\nNumber of rows: \", data.shape[0])\n",
    "    print(\"Number of columns: \", data.shape[1])\n",
    "    print(\"--------------------------------------\")\n",
    "\n",
    "#************************************************************\n",
    "\n",
    "    # Transforming file\n",
    "    print(\"Transform data...\")\n",
    "    data = clean_data(df=data,keyword='Not provided')\n",
    "    print(\"---------------------------------------\")\n",
    "    # Priting out the transformed dataframe\n",
    "    print(\"Data after transform: \\n\")\n",
    "    print(data.info())\n",
    "    print(\"---------------------------------------\")\n",
    "    \n",
    "#************************************************************\n",
    "    \n",
    "    # Saving file to data warehouse\n",
    "    print(\"Save data to Warehouse: \",load_data(input_data,data))\n",
    "except:\n",
    "    print(\"\\033[1;30;41m File error !!! \\n\")"
   ]
  }
 ],
 "metadata": {
  "kernelspec": {
   "display_name": "Python 3",
   "language": "python",
   "name": "python3"
  },
  "language_info": {
   "codemirror_mode": {
    "name": "ipython",
    "version": 3
   },
   "file_extension": ".py",
   "mimetype": "text/x-python",
   "name": "python",
   "nbconvert_exporter": "python",
   "pygments_lexer": "ipython3",
   "version": "3.8.8"
  }
 },
 "nbformat": 4,
 "nbformat_minor": 5
}
