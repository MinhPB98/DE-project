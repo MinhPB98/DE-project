{
 "cells": [
  {
   "cell_type": "code",
   "execution_count": 4,
   "id": "777adadb",
   "metadata": {
    "scrolled": true
   },
   "outputs": [],
   "source": [
    "import pandas as pd "
   ]
  },
  {
   "cell_type": "markdown",
   "id": "bfb02c84",
   "metadata": {},
   "source": [
    "## Read data from github"
   ]
  },
  {
   "cell_type": "markdown",
   "id": "b7f10b75",
   "metadata": {},
   "source": [
    "**CSV File**"
   ]
  },
  {
   "cell_type": "code",
   "execution_count": 1,
   "id": "1749d881",
   "metadata": {},
   "outputs": [],
   "source": [
    "def Extract_data(file_name):\n",
    "    try:\n",
    "        file_name = file_name +'.csv'\n",
    "        url = 'https://github.com/MinhPB98/Data-source/blob/master/Data_Source/'+file_name+'?raw=True'\n",
    "        df = pd.read_csv(url,error_bad_lines=False)\n",
    "        df.to_csv('../Data_Lake/'+file_name,index=False) # save to data lake \n",
    "        print(\"Your data is loaded succesfully in Data Lake\")\n",
    "        return df\n",
    "    except:\n",
    "        print(f\"\\033[1;31;47m {file_name} is not available. Check your data source \\n\")\n"
   ]
  },
  {
   "cell_type": "markdown",
   "id": "49a6e15b",
   "metadata": {},
   "source": [
    "**Json File**"
   ]
  },
  {
   "cell_type": "code",
   "execution_count": 8,
   "id": "42c65444",
   "metadata": {},
   "outputs": [],
   "source": [
    "def ingest_json_from_github(file_name):\n",
    "    try:\n",
    "        file_name = file_name +'.json'\n",
    "        url = 'https://github.com/MinhPB98/Data-source/blob/master/Data_Source/'+file_name+'?raw=True'\n",
    "        df = pd.read_json(url,lines=True)\n",
    "        df.to_json('../Data_Lake/'+file_name)\n",
    "        return \"Your data is loaded succesfully in Data Lake\"\n",
    "    except:\n",
    "        print(f\"\\033[1;31;47m {file_name} is not available. Check your data source \\n\")"
   ]
  },
  {
   "cell_type": "markdown",
   "id": "b8c28089",
   "metadata": {},
   "source": [
    "## Reading CSV file"
   ]
  },
  {
   "cell_type": "code",
   "execution_count": null,
   "id": "850f1634",
   "metadata": {},
   "outputs": [],
   "source": [
    "def read_csv_from_lake(file_name):\n",
    "    ''' Read csv file from data lake '''\n",
    "    try:\n",
    "        # reading file from data lake folder\n",
    "        df = pd.read_csv('../Data_Lake/' + file_name+'.csv')\n",
    "        print(\"File is read successful\")\n",
    "        # return dataframe\n",
    "        return df\n",
    "    except:\n",
    "        print(\"\\033[1;31;47m There is no file. Please try again!!! \\n\")"
   ]
  }
 ],
 "metadata": {
  "kernelspec": {
   "display_name": "Python 3",
   "language": "python",
   "name": "python3"
  },
  "language_info": {
   "codemirror_mode": {
    "name": "ipython",
    "version": 3
   },
   "file_extension": ".py",
   "mimetype": "text/x-python",
   "name": "python",
   "nbconvert_exporter": "python",
   "pygments_lexer": "ipython3",
   "version": "3.8.8"
  }
 },
 "nbformat": 4,
 "nbformat_minor": 5
}
