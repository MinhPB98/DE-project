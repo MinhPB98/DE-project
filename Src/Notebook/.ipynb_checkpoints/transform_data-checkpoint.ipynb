{
 "cells": [
  {
   "cell_type": "code",
   "execution_count": 1,
   "id": "0518be68",
   "metadata": {},
   "outputs": [],
   "source": [
    "from utils import drop_full_col, filling_NaN,remove_irrelevant_value"
   ]
  },
  {
   "cell_type": "code",
   "execution_count": 20,
   "id": "7582455e",
   "metadata": {},
   "outputs": [],
   "source": [
    "def clean_data(df,keyword):\n",
    "    ''' Cleaning data function'''\n",
    "    \n",
    "    # drop_full_col function use for dropping that column if it contains full NaN value\n",
    "    drop_full_col(df)\n",
    "    \n",
    "    # remove_the_irrelevant_value function use for dropping the row containing irrelevant values\n",
    "    df = remove_irrelevant_value(df,keyword) # keyword is the irrelevant value\n",
    "    \n",
    "    # filling_NaN function use for filling any NaN value into a default value\n",
    "    filling_NaN(df)\n",
    "    return df"
   ]
  }
 ],
 "metadata": {
  "kernelspec": {
   "display_name": "Python 3",
   "language": "python",
   "name": "python3"
  },
  "language_info": {
   "codemirror_mode": {
    "name": "ipython",
    "version": 3
   },
   "file_extension": ".py",
   "mimetype": "text/x-python",
   "name": "python",
   "nbconvert_exporter": "python",
   "pygments_lexer": "ipython3",
   "version": "3.8.8"
  }
 },
 "nbformat": 4,
 "nbformat_minor": 5
}
