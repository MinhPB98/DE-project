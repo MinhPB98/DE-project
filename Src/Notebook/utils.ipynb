{
 "cells": [
  {
   "cell_type": "code",
   "execution_count": 28,
   "id": "34d2a8da",
   "metadata": {},
   "outputs": [],
   "source": [
    "import pandas as pd \n",
    "import numpy as np"
   ]
  },
  {
   "cell_type": "markdown",
   "id": "93434e7b",
   "metadata": {},
   "source": [
    "## Create transform function"
   ]
  },
  {
   "cell_type": "code",
   "execution_count": 30,
   "id": "8825c27c",
   "metadata": {},
   "outputs": [],
   "source": [
    "def drop_full_col(df): \n",
    "    ''' Drop full column if that column contains full NaN values'''\n",
    "    # looping each column in dataframe\n",
    "    for i in df.columns:\n",
    "        # searching which columns contain FULL NaN value\n",
    "        if df[i].isna().sum()==len(df): \n",
    "            # dropping those columns\n",
    "            df.drop(i,axis=1,inplace=True) \n",
    "    return df"
   ]
  },
  {
   "cell_type": "code",
   "execution_count": 31,
   "id": "60c63fed",
   "metadata": {},
   "outputs": [],
   "source": [
    "def filling_NaN(df):\n",
    "    ''' Filling the NaN value in columns if that column contains any NaN values'''\n",
    "    # looping each column in dataframe\n",
    "    for i in list(df.columns):\n",
    "        # finding out which columns contain ANY NaN values\n",
    "        if df[i].isna().sum() !=0 : \n",
    "            # printing out that column with how many NaN it has\n",
    "            print(f'Number of NaN of {i} = {df[i].isna().sum()}')\n",
    "            # replace that NaN value with 0 as default\n",
    "            df[i] = df[i].replace(np.nan, 0)\n",
    "    print(\"Filling successful\")\n",
    "    return df"
   ]
  },
  {
   "cell_type": "code",
   "execution_count": 32,
   "id": "bace1162",
   "metadata": {},
   "outputs": [],
   "source": [
    "def remove_irrelevant_value(df, irr_value):\n",
    "    '''Remove the irrelevant value in column '''\n",
    "    # create blank list to contain which columns contain irrelevant value\n",
    "    ls_col = [] \n",
    "    for col in list(df.columns):\n",
    "        # if sum of irrelevant value contained in that column not equal to 0\n",
    "        if df[col].apply(lambda x:x==irr_value).sum()!=0:  \n",
    "            # append column to list\n",
    "            ls_col.append(col) \n",
    "        else:\n",
    "            pass\n",
    "    for i in ls_col: \n",
    "        # drop these columns\n",
    "        df = df[df[i] != irr_value] \n",
    "    return df"
   ]
  }
 ],
 "metadata": {
  "kernelspec": {
   "display_name": "Python 3",
   "language": "python",
   "name": "python3"
  },
  "language_info": {
   "codemirror_mode": {
    "name": "ipython",
    "version": 3
   },
   "file_extension": ".py",
   "mimetype": "text/x-python",
   "name": "python",
   "nbconvert_exporter": "python",
   "pygments_lexer": "ipython3",
   "version": "3.8.8"
  }
 },
 "nbformat": 4,
 "nbformat_minor": 5
}
