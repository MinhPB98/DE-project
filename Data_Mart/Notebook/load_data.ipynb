{
 "cells": [
  {
   "cell_type": "code",
   "execution_count": 1,
   "id": "9349ee05",
   "metadata": {},
   "outputs": [],
   "source": [
    "import pandas as pd "
   ]
  },
  {
   "cell_type": "code",
   "execution_count": 3,
   "id": "e270c391",
   "metadata": {},
   "outputs": [],
   "source": [
    "def load_mean_data(file_name):\n",
    "    try:\n",
    "        mean = '_Mart_Mean'\n",
    "        path = '../Data_Mart/'+dir_name+mean+'/'\n",
    "        name_csv = dir_name +'_mean_mart.csv'\n",
    "        url = path + name_csv\n",
    "        df = pd.read_csv(url)\n",
    "        print(\"Loading mean file successfully\")\n",
    "        return df \n",
    "    except:\n",
    "        print(\"\\033[1;30;41m File does not exist !!! \\n\")"
   ]
  },
  {
   "cell_type": "code",
   "execution_count": null,
   "id": "b5d9d7d6",
   "metadata": {},
   "outputs": [],
   "source": [
    "def load__sum_data(file_name):\n",
    "    try:\n",
    "        mean = '_Mart_Sum'\n",
    "        path = '../Data_Mart/'+dir_name+mean+'/'\n",
    "        name_csv = dir_name +'_mean_mart.csv'\n",
    "        url = path + name_csv\n",
    "        df = pd.read_csv(url)\n",
    "        print(\"Loading sum file successfully\")\n",
    "        return df \n",
    "    except:\n",
    "        print(\"\\033[1;30;41m File does not exist !!! \\n\")"
   ]
  }
 ],
 "metadata": {
  "kernelspec": {
   "display_name": "Python 3",
   "language": "python",
   "name": "python3"
  },
  "language_info": {
   "codemirror_mode": {
    "name": "ipython",
    "version": 3
   },
   "file_extension": ".py",
   "mimetype": "text/x-python",
   "name": "python",
   "nbconvert_exporter": "python",
   "pygments_lexer": "ipython3",
   "version": "3.8.8"
  }
 },
 "nbformat": 4,
 "nbformat_minor": 5
}
