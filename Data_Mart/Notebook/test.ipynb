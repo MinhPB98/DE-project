{
 "cells": [
  {
   "cell_type": "code",
   "execution_count": 7,
   "id": "fdc3847c",
   "metadata": {},
   "outputs": [],
   "source": [
    "import pandas as pd "
   ]
  },
  {
   "cell_type": "code",
   "execution_count": 14,
   "id": "8a1acd8a",
   "metadata": {},
   "outputs": [
    {
     "data": {
      "text/html": [
       "<div>\n",
       "<style scoped>\n",
       "    .dataframe tbody tr th:only-of-type {\n",
       "        vertical-align: middle;\n",
       "    }\n",
       "\n",
       "    .dataframe tbody tr th {\n",
       "        vertical-align: top;\n",
       "    }\n",
       "\n",
       "    .dataframe thead th {\n",
       "        text-align: right;\n",
       "    }\n",
       "</style>\n",
       "<table border=\"1\" class=\"dataframe\">\n",
       "  <thead>\n",
       "    <tr style=\"text-align: right;\">\n",
       "      <th></th>\n",
       "      <th>Agency</th>\n",
       "      <th>BasePay</th>\n",
       "      <th>OvertimePay</th>\n",
       "      <th>OtherPay</th>\n",
       "      <th>Benefits</th>\n",
       "      <th>TotalPay</th>\n",
       "      <th>TotalPayBenefits</th>\n",
       "      <th>Year</th>\n",
       "    </tr>\n",
       "  </thead>\n",
       "  <tbody>\n",
       "    <tr>\n",
       "      <th>0</th>\n",
       "      <td>San Francisco</td>\n",
       "      <td>66055.506718</td>\n",
       "      <td>5066.059886</td>\n",
       "      <td>3648.767297</td>\n",
       "      <td>18924.742068</td>\n",
       "      <td>74770.333901</td>\n",
       "      <td>93695.075969</td>\n",
       "      <td>2012.522603</td>\n",
       "    </tr>\n",
       "  </tbody>\n",
       "</table>\n",
       "</div>"
      ],
      "text/plain": [
       "          Agency       BasePay  OvertimePay     OtherPay      Benefits  \\\n",
       "0  San Francisco  66055.506718  5066.059886  3648.767297  18924.742068   \n",
       "\n",
       "       TotalPay  TotalPayBenefits         Year  \n",
       "0  74770.333901      93695.075969  2012.522603  "
      ]
     },
     "execution_count": 14,
     "metadata": {},
     "output_type": "execute_result"
    }
   ],
   "source": [
    "df = pd.read_csv('../Data_Mart/Agency_Mart_Mean/Agency_mean_mart.csv')\n",
    "df.head()"
   ]
  },
  {
   "cell_type": "code",
   "execution_count": null,
   "id": "1891a2f6",
   "metadata": {},
   "outputs": [],
   "source": [
    "pd.read_csv('../Data_Mart/Year/Year_mart.csv')"
   ]
  },
  {
   "cell_type": "code",
   "execution_count": null,
   "id": "e68d1da8",
   "metadata": {},
   "outputs": [],
   "source": [
    "pd.read_csv('../Data_Mart/JobTitle_mart_mean/JobTitle_mean_mart.csv')"
   ]
  },
  {
   "cell_type": "code",
   "execution_count": null,
   "id": "44e4cf12",
   "metadata": {},
   "outputs": [],
   "source": [
    "from ingest_warehouse import ingest_dwh\n",
    "from transform_data import create_mart_mean, create_mart_sum\n",
    "import pandas as pd \n",
    "import os \n",
    "\n",
    "dir_name = input(\"Enter your dir name: \")\n",
    "input_data =input(\"Enter your data: \")\n",
    "data = ingest_dwh(input_data)\n",
    "create_mart_mean(dir_name,data)\n",
    "create_mart_sum(dir_name,data)"
   ]
  }
 ],
 "metadata": {
  "kernelspec": {
   "display_name": "Python 3",
   "language": "python",
   "name": "python3"
  },
  "language_info": {
   "codemirror_mode": {
    "name": "ipython",
    "version": 3
   },
   "file_extension": ".py",
   "mimetype": "text/x-python",
   "name": "python",
   "nbconvert_exporter": "python",
   "pygments_lexer": "ipython3",
   "version": "3.8.8"
  }
 },
 "nbformat": 4,
 "nbformat_minor": 5
}
