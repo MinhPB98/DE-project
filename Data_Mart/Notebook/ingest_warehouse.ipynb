{
 "cells": [
  {
   "cell_type": "code",
   "execution_count": 4,
   "id": "f23d80dc",
   "metadata": {},
   "outputs": [],
   "source": [
    "import pandas as pd"
   ]
  },
  {
   "cell_type": "code",
   "execution_count": 5,
   "id": "d48f6a66",
   "metadata": {},
   "outputs": [],
   "source": [
    "def ingest_dwh(file_name):\n",
    "    try:\n",
    "        file_name = file_name +'_cleaned.csv'\n",
    "        url = '../Data_Warehouse/'+file_name\n",
    "        df = pd.read_csv(url)\n",
    "        print(\"Your data is ingested succesfully\")\n",
    "        return df\n",
    "    except:\n",
    "        print(f\"\\033[1;31;47m {file_name} is not available. Check your data source \\n\")"
   ]
  }
 ],
 "metadata": {
  "kernelspec": {
   "display_name": "Python 3",
   "language": "python",
   "name": "python3"
  },
  "language_info": {
   "codemirror_mode": {
    "name": "ipython",
    "version": 3
   },
   "file_extension": ".py",
   "mimetype": "text/x-python",
   "name": "python",
   "nbconvert_exporter": "python",
   "pygments_lexer": "ipython3",
   "version": "3.8.8"
  }
 },
 "nbformat": 4,
 "nbformat_minor": 5
}
