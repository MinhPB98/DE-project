{
 "cells": [
  {
   "cell_type": "code",
   "execution_count": 42,
   "id": "82b380a4",
   "metadata": {},
   "outputs": [],
   "source": [
    "import pandas as pd \n",
    "import os"
   ]
  },
  {
   "cell_type": "code",
   "execution_count": 43,
   "id": "446a04a6",
   "metadata": {},
   "outputs": [],
   "source": [
    "def create_mart_mean(dir_name,df):\n",
    "    # dir_name = input(\"Input mart: \")\n",
    "\n",
    "    # Parent Directories \n",
    "    try:\n",
    "        parent_dir = \"../Data_Mart/\"\n",
    "        mean = '_Mart_Mean'\n",
    "        # Path \n",
    "        path = os.path.join(parent_dir, dir_name+mean) \n",
    "        dir_full = dir_name + mean\n",
    "        os.makedirs(path)\n",
    "        print(f\"Directory {dir_full} created\") \n",
    "        for i in list(df.columns):\n",
    "            if i == dir_name:\n",
    "                data = df.groupby([i],as_index=False).mean()\n",
    "        path = '../Data_Mart/'+dir_name+mean+'/'\n",
    "        name_csv = dir_name +'_mean_mart.csv'\n",
    "        data.to_csv(path+name_csv ,index=False)\n",
    "        print(f\"{name_csv} created !!!\")\n",
    "    except:\n",
    "        print(\"\\033[1;30;41m File has existed !!! \\n\")"
   ]
  },
  {
   "cell_type": "code",
   "execution_count": 44,
   "id": "a4236c70",
   "metadata": {},
   "outputs": [],
   "source": [
    "def create_mart_sum(dir_name,df):\n",
    "    # dir_name = input(\"Input mart: \")\n",
    "\n",
    "    # Parent Directories \n",
    "    try:\n",
    "        parent_dir = \"../Data_Mart/\"\n",
    "        mean = '_Mart_Sum'\n",
    "        # Path \n",
    "        path = os.path.join(parent_dir, dir_name+mean) \n",
    "        dir_full = dir_name + mean\n",
    "        os.makedirs(path)\n",
    "        print(f\"Directory {dir_full} created\") \n",
    "        for i in list(df.columns):\n",
    "            if i == dir_name:\n",
    "                data = df.groupby([i],as_index=False).sum()\n",
    "        path = '../Data_Mart/'+dir_name+mean+'/'\n",
    "        name_csv = dir_name +'_mean_mart.csv'\n",
    "        data.to_csv(path + name_csv,index=False)\n",
    "        print(f\"{name_csv} created !!!\")\n",
    "    except:\n",
    "        print(\"\\033[1;30;41m File has existed !!! \\n\")"
   ]
  },
  {
   "cell_type": "code",
   "execution_count": null,
   "id": "317e3a47",
   "metadata": {},
   "outputs": [],
   "source": []
  }
 ],
 "metadata": {
  "kernelspec": {
   "display_name": "Python 3",
   "language": "python",
   "name": "python3"
  },
  "language_info": {
   "codemirror_mode": {
    "name": "ipython",
    "version": 3
   },
   "file_extension": ".py",
   "mimetype": "text/x-python",
   "name": "python",
   "nbconvert_exporter": "python",
   "pygments_lexer": "ipython3",
   "version": "3.8.8"
  }
 },
 "nbformat": 4,
 "nbformat_minor": 5
}
