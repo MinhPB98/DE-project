{
 "cells": [
  {
   "cell_type": "code",
   "execution_count": 1,
   "id": "8737946b",
   "metadata": {},
   "outputs": [
    {
     "name": "stdout",
     "output_type": "stream",
     "text": [
      "Enter your dir name: Agency\n",
      "Enter your data: Salaries\n",
      "-------------------------------\n",
      "Your data is ingested succesfully\n",
      "--------------------------------\n",
      "Directory Agency_Mart_Mean created\n",
      "Agency_mean_mart.csv created !!!\n",
      "---------------------------------\n",
      "Directory Agency_Mart_Sum created\n",
      "Agency_mean_mart.csv created !!!\n",
      "---------------------------------\n",
      "Loading mean file successfully\n",
      "          Agency       BasePay  OvertimePay     OtherPay      Benefits  \\\n",
      "0  San Francisco  66055.506718  5066.059886  3648.767297  18924.742068   \n",
      "\n",
      "       TotalPay  TotalPayBenefits         Year  \n",
      "0  74770.333901      93695.075969  2012.522603  \n",
      "---------------------------------\n",
      "Loading sum file successfully\n",
      "          Agency       BasePay   OvertimePay      OtherPay      Benefits  \\\n",
      "0  San Francisco  9.819151e+09  7.530698e+08  5.423893e+08  2.813163e+09   \n",
      "\n",
      "       TotalPay  TotalPayBenefits       Year  \n",
      "0  1.111461e+10      1.392777e+10  299161485  \n"
     ]
    }
   ],
   "source": [
    "from ingest_warehouse import ingest_dwh\n",
    "from transform_data import create_mart_mean, create_mart_sum\n",
    "from load_data import load_sum_data, load_mean_data\n",
    "dir_name = input(\"Enter your dir name: \")\n",
    "input_data =input(\"Enter your data: \")\n",
    "print(\"-------------------------------\")\n",
    "data = ingest_dwh(input_data)\n",
    "print('--------------------------------')\n",
    "create_mart_mean(dir_name,data)\n",
    "print('---------------------------------')\n",
    "create_mart_sum(dir_name,data)\n",
    "print('---------------------------------')\n",
    "load_mean_data(dir_name)\n",
    "print('---------------------------------')\n",
    "load_sum_data(dir_name)"
   ]
  },
  {
   "cell_type": "code",
   "execution_count": null,
   "id": "2419455b",
   "metadata": {},
   "outputs": [],
   "source": []
  }
 ],
 "metadata": {
  "kernelspec": {
   "display_name": "Python 3",
   "language": "python",
   "name": "python3"
  },
  "language_info": {
   "codemirror_mode": {
    "name": "ipython",
    "version": 3
   },
   "file_extension": ".py",
   "mimetype": "text/x-python",
   "name": "python",
   "nbconvert_exporter": "python",
   "pygments_lexer": "ipython3",
   "version": "3.8.8"
  }
 },
 "nbformat": 4,
 "nbformat_minor": 5
}
